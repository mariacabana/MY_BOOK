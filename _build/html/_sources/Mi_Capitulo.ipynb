{
 "cells": [
  {
   "cell_type": "markdown",
   "id": "7c4b4979",
   "metadata": {},
   "source": [
    "Hi Mundo"
   ]
  },
  {
   "cell_type": "code",
   "execution_count": null,
   "id": "bdf62139",
   "metadata": {},
   "outputs": [],
   "source": [
    "print(\"¡Hola desde Jupyter Book!\")"
   ]
  }
 ],
 "metadata": {
  "kernelspec": {
   "display_name": "venv_jupyter",
   "language": "python",
   "name": "python3"
  },
  "language_info": {
   "name": "python",
   "version": "3.11.9"
  }
 },
 "nbformat": 4,
 "nbformat_minor": 5
}
