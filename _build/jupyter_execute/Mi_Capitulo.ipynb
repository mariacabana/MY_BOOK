{
 "cells": [
  {
   "cell_type": "markdown",
   "id": "7c4b4979",
   "metadata": {},
   "source": [
    "Hi Mundo"
   ]
  },
  {
   "cell_type": "code",
   "execution_count": 1,
   "id": "bdf62139",
   "metadata": {},
   "outputs": [
    {
     "name": "stdout",
     "output_type": "stream",
     "text": [
      "¡Hola desde Jupyter Book!\n"
     ]
    }
   ],
   "source": [
    "print(\"¡Hola desde Jupyter Book!\")"
   ]
  }
 ],
 "metadata": {
  "kernelspec": {
   "display_name": "venv_jupyter",
   "language": "python",
   "name": "python3"
  },
  "language_info": {
   "codemirror_mode": {
    "name": "ipython",
    "version": 3
   },
   "file_extension": ".py",
   "mimetype": "text/x-python",
   "name": "python",
   "nbconvert_exporter": "python",
   "pygments_lexer": "ipython3",
   "version": "3.11.9"
  }
 },
 "nbformat": 4,
 "nbformat_minor": 5
}